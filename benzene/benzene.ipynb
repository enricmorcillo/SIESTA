{
 "cells": [
  {
   "cell_type": "markdown",
   "id": "96d9ec99-5195-4e14-a08f-bdf881eefc79",
   "metadata": {},
   "source": [
    "notebook per a representar una imatge estructura en fdf"
   ]
  },
  {
   "cell_type": "code",
   "execution_count": 1,
   "id": "afe5e869-e055-44f7-a6f7-b2cba7f4d613",
   "metadata": {},
   "outputs": [],
   "source": [
    "import sisl as si"
   ]
  },
  {
   "cell_type": "code",
   "execution_count": 2,
   "id": "3a74d758-5ce0-4dfe-b2eb-362e23d638e9",
   "metadata": {},
   "outputs": [],
   "source": [
    "molecula=si.Geometry.read(\"benzene.fdf\")"
   ]
  },
  {
   "cell_type": "code",
   "execution_count": 3,
   "id": "e652a47d-27d9-4011-b34a-1369c1d61366",
   "metadata": {},
   "outputs": [
    {
     "name": "stdout",
     "output_type": "stream",
     "text": [
      "Pretty printing has been turned OFF\n"
     ]
    }
   ],
   "source": [
    "pprint(molecula)"
   ]
  },
  {
   "cell_type": "code",
   "execution_count": 4,
   "id": "934c9b18-0d93-42b8-ad83-4574c88230ed",
   "metadata": {},
   "outputs": [
    {
     "name": "stdout",
     "output_type": "stream",
     "text": [
      "Geometry{na: 12, no: 12,\n",
      " Atoms{species: 2,\n",
      "  Atom{C, Z: 6, mass(au): 12.01070, maxR: -1.00000,\n",
      "   Orbital{R: -1.00000, q0: 0.0}\n",
      "  }: 6,\n",
      "  Atom{H, Z: 1, mass(au): 1.00794, maxR: -1.00000,\n",
      "   Orbital{R: -1.00000, q0: 0.0}\n",
      "  }: 6,\n",
      " },\n",
      " maxR: -1.00000,\n",
      " Lattice{nsc: [1 1 1],\n",
      "  origin=[0.0000, 0.0000, 0.0000],\n",
      "  A=[14.3240, 0.0000, 0.0000],\n",
      "  B=[0.0000, 14.9940, 0.0000],\n",
      "  C=[0.0000, 0.0000, 10.0000],\n",
      "  bc=[Periodic,\n",
      "      Periodic,\n",
      "      Periodic]\n",
      " }\n",
      "}\n"
     ]
    }
   ],
   "source": [
    "print(molecula)"
   ]
  },
  {
   "cell_type": "code",
   "execution_count": null,
   "id": "67286952-ab3d-42b0-8997-07848dfed774",
   "metadata": {},
   "outputs": [],
   "source": [
    "molecula.plot()"
   ]
  }
 ],
 "metadata": {
  "kernelspec": {
   "display_name": "Python 3 (ipykernel)",
   "language": "python",
   "name": "python3"
  },
  "language_info": {
   "codemirror_mode": {
    "name": "ipython",
    "version": 3
   },
   "file_extension": ".py",
   "mimetype": "text/x-python",
   "name": "python",
   "nbconvert_exporter": "python",
   "pygments_lexer": "ipython3",
   "version": "3.12.8"
  }
 },
 "nbformat": 4,
 "nbformat_minor": 5
}
